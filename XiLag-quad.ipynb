{
 "cells": [
  {
   "cell_type": "code",
   "execution_count": 2,
   "metadata": {
    "collapsed": false
   },
   "outputs": [],
   "source": [
    "import time\n",
    "from math import *\n",
    "import numpy as np\n",
    "from scipy import special\n",
    "from scipy.integrate import quad\n",
    "import matplotlib.pyplot as plt\n",
    "from tqdm import tqdm"
   ]
  },
  {
   "cell_type": "code",
   "execution_count": 3,
   "metadata": {
    "collapsed": true
   },
   "outputs": [],
   "source": [
    "data = np.loadtxt('ACH.dat')"
   ]
  },
  {
   "cell_type": "code",
   "execution_count": 65,
   "metadata": {
    "collapsed": true
   },
   "outputs": [],
   "source": [
    "Lbox = 1100\n",
    "hLbox = Lbox/2\n",
    "\n",
    "Nt = 110000\n",
    "nbar = Nt / Lbox**3\n",
    "\n",
    "nk = 4\n",
    "fbasis = np.zeros(nk+1)\n",
    "\n",
    "nr = 21\n",
    "rmin = 60\n",
    "rmax = 120\n",
    "rmid = (rmax+rmin)/2\n",
    "mu = rmid\n",
    "sigma = 4.6"
   ]
  },
  {
   "cell_type": "code",
   "execution_count": 66,
   "metadata": {
    "collapsed": true
   },
   "outputs": [],
   "source": [
    "sample = np.random.choice(len(data),size=Nt,replace=False)"
   ]
  },
  {
   "cell_type": "code",
   "execution_count": 67,
   "metadata": {
    "collapsed": true
   },
   "outputs": [],
   "source": [
    "x, y, z = data[sample].T"
   ]
  },
  {
   "cell_type": "code",
   "execution_count": 68,
   "metadata": {
    "collapsed": true
   },
   "outputs": [],
   "source": [
    "def E1(s):\n",
    "    return special.erf(s/sqrt(2))\n",
    "\n",
    "def E2(s):\n",
    "    return sqrt(2/pi)*np.exp(-s**2/2)\n",
    "\n",
    "def mu0(s):\n",
    "    return s**0\n",
    "\n",
    "def mu1(s):\n",
    "    return (s+1/s) * E1(s) + E2(s)\n",
    "\n",
    "def mu2(s):\n",
    "    return 3 + s**2\n",
    "\n",
    "def mu3(s):\n",
    "    return (s**3+6*s+3/s) * E1(s) + (s**2+5) * E2(s)\n",
    "\n",
    "def mu4(s):\n",
    "    return s**4+10*s**2+15\n",
    "\n",
    "def mu5(s):\n",
    "    return (s**5+15*s**3+45*s+15/s) * E1(s) + (s**2+3)*(s**2+11) * E2(s)\n",
    "\n",
    "def mu6(s):\n",
    "    return s**6 + 21*s**4 + 105*s**2 + 105\n",
    "\n",
    "def mu7(s):\n",
    "    return (s**7+28*s**5+210*s**3+420*s+105/s)* E1(s) + (s**6+27*s**4+185*s**2+279)*E2(s)\n",
    "\n",
    "def mu8(s):\n",
    "    return s**8 + 36*s**6 + 378*s**4 + 1260*s**2 + 945\n",
    "\n",
    "def mu9(s):\n",
    "    return (s**9+45*s**7+630*s**5+3150*s**3+4725*s+945/s)*E1(s) + (s**8+44*s**6+588*s**4+2640*s**2+2895)*sqrt(2/pi)*E2(s)\n",
    "    \n",
    "#def f1(s):\n",
    "#    return ((s/sigma)+1/((s/sigma))) * special.erf((s/sigma)/sqrt(2)) + sqrt(2/pi)*np.exp(-(s/sigma)**2/2)\n",
    "\n",
    "#def f2(s):\n",
    "#    return 3 + (s/sigma)**2\n",
    "\n",
    "#def f3(s):\n",
    "#    return ((s/sigma)**3+6*(s/sigma)+3/(s/sigma)) * special.erf((s/sigma)/sqrt(2)) + ((s/sigma)**2+5) * sqrt(2/pi)*np.exp(-(s/sigma)**2/2)\n",
    "\n",
    "#def f4(s):\n",
    "#    return (s/sigma)**4+10*(s/sigma)**2+15\n",
    "\n",
    "#def f5(s):\n",
    "#    return ((s/sigma)**5+15*(s/sigma)**3+45*(s/sigma)+15/(s/sigma)) * special.erf((s/sigma)/sqrt(2)) + ((s/sigma)**2+5) + ((s/sigma)**2+3)*((s/sigma)**2+11) * sqrt(2/pi)*np.exp(-(s/sigma)**2/2)\n",
    "\n",
    "#def f6(s):\n",
    "#    return (s/sigma)**6 + 21*(s/sigma)**4 + 105*(s/sigma)**2 + 105\n",
    "\n",
    "#def f7(s):\n",
    "#    return ((s/sigma)**7+28*(s/sigma)**5+210*s**3+420*(s/sigma)+105/(s/sigma))* special.erf((s/sigma)/sqrt(2)) + ((s/sigma)**6+27*(s/sigma)**4+185*(s/sigma)**2+279)*sqrt(2/pi)*np.exp(-(s/sigma)**2/2)\n",
    "\n",
    "#def f8(s):\n",
    "#    return (s/sigma)**8 + 36*(s/sigma)**6 + 378*(s/sigma)**4 + 1260*(s/sigma)**2 + 945\n",
    "\n",
    "#def f9(s):\n",
    "#    return ((s/sigma)**9+45*(s/sigma)**7+630*(s/sigma)**5+3150*(s/sigma)**3+4725*(s/sigma)+945/(s/sigma))*special.erf((s/sigma)/sqrt(2)) + ((s/sigma)**8+44*(s/sigma)**6+588*(s/sigma)**4+2640*(s/sigma)**2+2895)*sqrt(2/pi)*np.exp(-(s/sigma)**2/2)\n"
   ]
  },
  {
   "cell_type": "code",
   "execution_count": 69,
   "metadata": {
    "collapsed": true
   },
   "outputs": [],
   "source": [
    "mu = [mu0,mu1,mu2,mu3,mu4]"
   ]
  },
  {
   "cell_type": "code",
   "execution_count": 70,
   "metadata": {
    "collapsed": false
   },
   "outputs": [
    {
     "name": "stderr",
     "output_type": "stream",
     "text": [
      "100%|██████████| 109999/109999 [08:07<00:00, 225.76it/s] "
     ]
    },
    {
     "name": "stdout",
     "output_type": "stream",
     "text": [
      "Time = 487.25070238113403\n"
     ]
    },
    {
     "name": "stderr",
     "output_type": "stream",
     "text": [
      "\n"
     ]
    }
   ],
   "source": [
    "t0 = time.time()\n",
    "\n",
    "Nb = np.zeros(nr)\n",
    "\n",
    "for i in tqdm(range(Nt-1)):\n",
    "    j = np.arange(i+1,Nt)\n",
    "    \n",
    "    dx = x[i] - x[j]\n",
    "    dy = y[i] - y[j]\n",
    "    dz = z[i] - z[j]\n",
    "        \n",
    "    ### periodic boundary conditions on separations: \n",
    "    dx[np.where(dx>hLbox)] -= Lbox\n",
    "    dy[np.where(dy>hLbox)] -= Lbox\n",
    "    dz[np.where(dz>hLbox)] -= Lbox\n",
    "    dx[np.where(dx<-hLbox)] += Lbox\n",
    "    dy[np.where(dy<-hLbox)] += Lbox\n",
    "    dz[np.where(dz<-hLbox)] += Lbox\n",
    "\n",
    "    r2 = dx**2 + dy**2 + dz**2\n",
    "    r = np.sqrt(r2)\n",
    "    \n",
    "    ### Laguerre pair counts:\n",
    "    r = r[(r>=rmin) & (r<=rmax)]\n",
    "    if len(r) > 0:\n",
    "        s = r/sigma\n",
    "        for k,f in enumerate(mu):\n",
    "            fbasis[k] += np.sum(f(s))/Nt\n",
    "        #E1 = special.erf(s/sqrt(2))\n",
    "        #E2 = sqrt(2/pi)*np.exp(-s**2/2)\n",
    "        #fbasis[0] += sum((s+1/s) * E1 + E2)/Nt\n",
    "        #fbasis[1] += sum(3 + s**2)/Nt\n",
    "        #fbasis[2] += sum((s**3+6*s+3/s) * E1 + (s**2+5) * E2)/Nt\n",
    "        #fbasis[3] += sum(s**4+10*s**2+15)/Nt\n",
    "        #fbasis[4] += sum((s**5+15*s**3+45*s+15/s) * E1 + (s**2+3)*(s**2+11) * E2)/Nt\n",
    "        #fbasis[5] += sum(s**6 + 21*s**4 + 105*s**2 + 105)/Nt\n",
    "        #fbasis[6] += sum((s**7+28*s**5+210*s**3+420*s+105/s)*E1 + (s**6+27*s**4+185*s**2+279)*E2)/Nt\n",
    "        #fbasis[7] += sum(s**8 + 36*s**6 + 378*s**4 + 1260*s**2 + 945)/Nt\n",
    "        #fbasis[8] += sum((s**9+45*s**7+630*s**5+3150*s**3+4725*s+945/s)*E1 + (s**8+44*s**6+588*s**4+2640*s**2+2895)*E2)/Nt\n",
    "    \n",
    "        \n",
    "fbasis = fbasis*2 / (Nt-1)\n",
    "    \n",
    "\n",
    "t1 = time.time() \n",
    "print('Time =', t1-t0)"
   ]
  },
  {
   "cell_type": "code",
   "execution_count": 71,
   "metadata": {
    "collapsed": false
   },
   "outputs": [],
   "source": [
    "V = np.zeros(nk+1)\n",
    "for k in range(nk+1):\n",
    "    fun = lambda r: r**2 * mu[k](r/sigma)\n",
    "    #func = lambda s: s**2 * f[k](s) \n",
    "    V[k] = quad(fun,rmin, rmax)[0]\n",
    "    \n",
    "    \n",
    "nuRR = 4*pi/Lbox**3*V[0:nk+1]"
   ]
  },
  {
   "cell_type": "code",
   "execution_count": 72,
   "metadata": {
    "collapsed": true
   },
   "outputs": [],
   "source": [
    "dim = (nk+1, nk+1)\n",
    "FRR = np.zeros(dim)\n",
    "for k in range(nk+1):\n",
    "    for l in range(k,nk+1):\n",
    "        func = lambda r: r**2 * mu[k](r/sigma) * mu[l](r/sigma)\n",
    "        #func = lambda s: s**2 * f[k](s) * f[l](s)\n",
    "        FRR[k,l] = (4*pi/Lbox**3)*quad(func, rmin, rmax)[0]\n",
    "        FRR[l,k] = FRR[k,l]"
   ]
  },
  {
   "cell_type": "code",
   "execution_count": 73,
   "metadata": {
    "collapsed": true
   },
   "outputs": [],
   "source": [
    "invF = np.linalg.inv(FRR)"
   ]
  },
  {
   "cell_type": "code",
   "execution_count": 74,
   "metadata": {
    "collapsed": false
   },
   "outputs": [
    {
     "data": {
      "text/plain": [
       "array([  4.78245554e-03,   1.00468933e-01,   2.17551573e+00,\n",
       "         4.83342235e+01,   1.09729913e+03])"
      ]
     },
     "execution_count": 74,
     "metadata": {},
     "output_type": "execute_result"
    }
   ],
   "source": [
    "nuDD = fbasis\n",
    "nuDD"
   ]
  },
  {
   "cell_type": "code",
   "execution_count": 75,
   "metadata": {
    "collapsed": false
   },
   "outputs": [
    {
     "data": {
      "text/plain": [
       "array([  4.75841532e-03,   9.99839113e-02,   2.16539251e+00,\n",
       "         4.81168675e+01,   1.09252200e+03])"
      ]
     },
     "execution_count": 75,
     "metadata": {},
     "output_type": "execute_result"
    }
   ],
   "source": [
    "nuRR"
   ]
  },
  {
   "cell_type": "code",
   "execution_count": 76,
   "metadata": {
    "collapsed": false
   },
   "outputs": [
    {
     "data": {
      "text/plain": [
       "array([ 1.00505215,  1.00485099,  1.004675  ,  1.00451725,  1.00437257])"
      ]
     },
     "execution_count": 76,
     "metadata": {},
     "output_type": "execute_result"
    }
   ],
   "source": [
    "nuDD/nuRR"
   ]
  },
  {
   "cell_type": "code",
   "execution_count": 77,
   "metadata": {
    "collapsed": false
   },
   "outputs": [
    {
     "name": "stdout",
     "output_type": "stream",
     "text": [
      "Sim: [  8.70659277e-01  -1.65895182e-01   1.16223228e-02  -3.52460403e-04\n",
      "   3.89953761e-06]\n"
     ]
    }
   ],
   "source": [
    "nuDD = fbasis\n",
    "simDiff = nuDD - nuRR\n",
    "aSim = np.dot(invF, simDiff)\n",
    "print ('Sim:', aSim)\n",
    "checkDiff = 0*simDiff\n",
    "for k in range(0,nk):\n",
    "    checkDiff[k] = sum(FRR[k,:]*aSim[:])"
   ]
  },
  {
   "cell_type": "code",
   "execution_count": 78,
   "metadata": {
    "collapsed": false
   },
   "outputs": [
    {
     "name": "stdout",
     "output_type": "stream",
     "text": [
      "Sim: [  8.70659277e-01  -1.65895182e-01   1.16223228e-02  -3.52460403e-04\n",
      "   3.89953761e-06]\n"
     ]
    }
   ],
   "source": [
    "nuDD = fbasis\n",
    "simDiff = nuDD - nuRR\n",
    "aSim = np.dot(invF, simDiff)\n",
    "print ('Sim:', aSim)\n",
    "checkDiff = 0*simDiff\n",
    "for k in range(0,nk):\n",
    "    checkDiff[k] = sum(FRR[k,:]*aSim[:])"
   ]
  },
  {
   "cell_type": "code",
   "execution_count": 81,
   "metadata": {
    "collapsed": true
   },
   "outputs": [],
   "source": [
    "rt = np.arange(60,121)\n",
    "yt = rt/sigma\n",
    "E1 = special.erf(yt/sqrt(2))\n",
    "E2 = sqrt(2/pi)*np.exp(-yt**2/2)\n",
    "xiSim = 0.0*rt\n",
    "xiSim = xiSim + aSim[0] * yt**0 \\\n",
    "              + aSim[1] * ((yt+1/yt) * E1 + E2) \\\n",
    "              + aSim[2] * (3 + yt**2) \\\n",
    "              + aSim[3] * ((yt**3+6*yt+3/yt) * E1 + (yt**2+5) * E2) \\\n",
    "              + aSim[4] * (yt**4+10*yt**2+15) \n",
    "                #+ aSim[4] * ((yt**5+15*yt**3+45*yt+15/yt) * E1 + (yt**2+3)*(yt**2+11) * E2)\n",
    "                #+ aSim[5] * (yt**6 + 21*yt**4 + 105*yt**2 + 105) \\\n",
    "                #+ aSim[6] * ((yt**7+28*yt**5+210*yt**3+420*yt+105/yt)*E1 + (yt**6+27*yt**4+185*yt**2+279)*E2) \\\n",
    "                #+ aSim[7] * (yt**8 + 36*yt**6 + 378*yt**4 + 1260*yt**2 + 945) \\\n",
    "                #+ aSim[8] * ((yt**9+45*yt**7+630*yt**5+3150*yt**3+4725*yt+945/yt)*E1 + (yt**8+44*yt**6+588*yt**4+2640*yt**2+2895)*E2)                    "
   ]
  },
  {
   "cell_type": "code",
   "execution_count": 82,
   "metadata": {
    "collapsed": false
   },
   "outputs": [
    {
     "data": {
      "image/png": "[encoded data removed]",
      "text/plain": [
       "<matplotlib.figure.Figure at 0x7f1870c0a160>"
      ]
     },
     "metadata": {},
     "output_type": "display_data"
    }
   ],
   "source": [
    "plt.plot(rt,xiSim)\n",
    "plt.xlabel(r'$r$')\n",
    "plt.ylabel(r'$\\xi(r)$')\n",
    "plt.show()"
   ]
  },
  {
   "cell_type": "code",
   "execution_count": null,
   "metadata": {
    "collapsed": true
   },
   "outputs": [],
   "source": []
  },
  {
   "cell_type": "code",
   "execution_count": null,
   "metadata": {
    "collapsed": true
   },
   "outputs": [],
   "source": []
  },
  {
   "cell_type": "code",
   "execution_count": null,
   "metadata": {
    "collapsed": true
   },
   "outputs": [],
   "source": [
    "5"
   ]
  },
  {
   "cell_type": "code",
   "execution_count": 64,
   "metadata": {
    "collapsed": false
   },
   "outputs": [
    {
     "data": {
      "image/png": "[encoded data removed]",
      "text/plain": [
       "<matplotlib.figure.Figure at 0x7f1898f76b00>"
      ]
     },
     "metadata": {},
     "output_type": "display_data"
    }
   ],
   "source": [
    "plt.plot(rt,xiSim)\n",
    "plt.xlabel(r'$r$')\n",
    "plt.ylabel(r'$\\xi(r)$')\n",
    "plt.show()"
   ]
  },
  {
   "cell_type": "code",
   "execution_count": null,
   "metadata": {
    "collapsed": true
   },
   "outputs": [],
   "source": []
  }
 ],
 "metadata": {
  "kernelspec": {
   "display_name": "Python 3",
   "language": "python",
   "name": "python3"
  },
  "language_info": {
   "codemirror_mode": {
    "name": "ipython",
    "version": 3
   },
   "file_extension": ".py",
   "mimetype": "text/x-python",
   "name": "python",
   "nbconvert_exporter": "python",
   "pygments_lexer": "ipython3",
   "version": "3.5.3"
  }
 },
 "nbformat": 4,
 "nbformat_minor": 2
}
