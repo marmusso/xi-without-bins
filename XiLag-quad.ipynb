{
 "cells": [
  {
   "cell_type": "code",
   "execution_count": 1,
   "metadata": {},
   "outputs": [],
   "source": [
    "import time\n",
    "from math import *\n",
    "import numpy as np\n",
    "from scipy import special\n",
    "from scipy.integrate import quad\n",
    "import matplotlib.pyplot as plt\n",
    "from tqdm import tqdm"
   ]
  },
  {
   "cell_type": "code",
   "execution_count": 2,
   "metadata": {},
   "outputs": [],
   "source": [
    "data = np.loadtxt('ACH.dat')"
   ]
  },
  {
   "cell_type": "code",
   "execution_count": 3,
   "metadata": {},
   "outputs": [],
   "source": [
    "Lbox = 1100\n",
    "hLbox = Lbox/2\n",
    "\n",
    "Nt = 110000\n",
    "nbar = Nt / Lbox**3\n",
    "\n",
    "nk = 9\n",
    "fbasis = np.zeros(nk)\n",
    "\n",
    "nr = 21\n",
    "rmin = 60\n",
    "rmax = 120\n",
    "rmid = (rmax+rmin)/2\n",
    "mu = rmid\n",
    "sigma = 4.6"
   ]
  },
  {
   "cell_type": "code",
   "execution_count": 4,
   "metadata": {},
   "outputs": [],
   "source": [
    "sample = np.random.choice(len(data),size=Nt,replace=False)"
   ]
  },
  {
   "cell_type": "code",
   "execution_count": 5,
   "metadata": {},
   "outputs": [],
   "source": [
    "x, y, z = data[sample].T"
   ]
  },
  {
   "cell_type": "code",
   "execution_count": 6,
   "metadata": {},
   "outputs": [],
   "source": [
    "def E1(s):\n",
    "    return special.erf(s/sqrt(2))\n",
    "\n",
    "def E2(s):\n",
    "    return sqrt(2/pi)*np.exp(-s**2/2)\n",
    "\n",
    "def f1(s):\n",
    "    return (s+1/s) * E1(s) + E2(s)\n",
    "\n",
    "def f2(s):\n",
    "    return 3 + s**2\n",
    "\n",
    "def f3(s):\n",
    "    return (s**3+6*s+3/s) * E1(s) + (s**2+5) * E2(s)\n",
    "\n",
    "def f4(s):\n",
    "    return s**4+10*s**2+15\n",
    "\n",
    "def f5(s):\n",
    "    return (s**5+15*s**3+45*s+15/s) * E1(s) + (s**2+3)*(s**2+11) * E2(s)\n",
    "\n",
    "def f6(s):\n",
    "    return s**6 + 21*s**4 + 105*s**2 + 105\n",
    "\n",
    "def f7(s):\n",
    "    return (s**7+28*s**5+210*s**3+420*s+105/s)* E1(s) + (s**6+27*s**4+185*s**2+279)*E2(s)\n",
    "\n",
    "def f8(s):\n",
    "    return s**8 + 36*s**6 + 378*s**4 + 1260*s**2 + 945\n",
    "\n",
    "def f9(s):\n",
    "    return (s**9+45*s**7+630*s**5+3150*s**3+4725*s+945/s)*E1(s) + (s**8+44*s**6+588*s**4+2640*s**2+2895)*sqrt(2/pi)*E2(s)\n",
    "    \n",
    "#def f1(s):\n",
    "#    return ((s/sigma)+1/((s/sigma))) * special.erf((s/sigma)/sqrt(2)) + sqrt(2/pi)*np.exp(-(s/sigma)**2/2)\n",
    "\n",
    "#def f2(s):\n",
    "#    return 3 + (s/sigma)**2\n",
    "\n",
    "#def f3(s):\n",
    "#    return ((s/sigma)**3+6*(s/sigma)+3/(s/sigma)) * special.erf((s/sigma)/sqrt(2)) + ((s/sigma)**2+5) * sqrt(2/pi)*np.exp(-(s/sigma)**2/2)\n",
    "\n",
    "#def f4(s):\n",
    "#    return (s/sigma)**4+10*(s/sigma)**2+15\n",
    "\n",
    "#def f5(s):\n",
    "#    return ((s/sigma)**5+15*(s/sigma)**3+45*(s/sigma)+15/(s/sigma)) * special.erf((s/sigma)/sqrt(2)) + ((s/sigma)**2+5) + ((s/sigma)**2+3)*((s/sigma)**2+11) * sqrt(2/pi)*np.exp(-(s/sigma)**2/2)\n",
    "\n",
    "#def f6(s):\n",
    "#    return (s/sigma)**6 + 21*(s/sigma)**4 + 105*(s/sigma)**2 + 105\n",
    "\n",
    "#def f7(s):\n",
    "#    return ((s/sigma)**7+28*(s/sigma)**5+210*s**3+420*(s/sigma)+105/(s/sigma))* special.erf((s/sigma)/sqrt(2)) + ((s/sigma)**6+27*(s/sigma)**4+185*(s/sigma)**2+279)*sqrt(2/pi)*np.exp(-(s/sigma)**2/2)\n",
    "\n",
    "#def f8(s):\n",
    "#    return (s/sigma)**8 + 36*(s/sigma)**6 + 378*(s/sigma)**4 + 1260*(s/sigma)**2 + 945\n",
    "\n",
    "#def f9(s):\n",
    "#    return ((s/sigma)**9+45*(s/sigma)**7+630*(s/sigma)**5+3150*(s/sigma)**3+4725*(s/sigma)+945/(s/sigma))*special.erf((s/sigma)/sqrt(2)) + ((s/sigma)**8+44*(s/sigma)**6+588*(s/sigma)**4+2640*(s/sigma)**2+2895)*sqrt(2/pi)*np.exp(-(s/sigma)**2/2)\n"
   ]
  },
  {
   "cell_type": "code",
   "execution_count": 7,
   "metadata": {},
   "outputs": [],
   "source": [
    "f = [f1,f2,f3,f4,f5,f6,f7,f8,f9]"
   ]
  },
  {
   "cell_type": "code",
   "execution_count": 8,
   "metadata": {},
   "outputs": [
    {
     "name": "stderr",
     "output_type": "stream",
     "text": [
      "100%|██████████| 109999/109999 [05:31<00:00, 331.71it/s] "
     ]
    },
    {
     "name": "stdout",
     "output_type": "stream",
     "text": [
      "Time = 331.61658668518066\n"
     ]
    },
    {
     "name": "stderr",
     "output_type": "stream",
     "text": [
      "\n"
     ]
    }
   ],
   "source": [
    "t0 = time.time()\n",
    "\n",
    "Nb = np.zeros(nr)\n",
    "\n",
    "for i in tqdm(range(Nt-1)):\n",
    "    j = np.arange(i+1,Nt)\n",
    "    \n",
    "    dx = x[i] - x[j]\n",
    "    dy = y[i] - y[j]\n",
    "    dz = z[i] - z[j]\n",
    "        \n",
    "    ### periodic boundary conditions on separations: \n",
    "    dx[np.where(dx>hLbox)] -= Lbox\n",
    "    dy[np.where(dy>hLbox)] -= Lbox\n",
    "    dz[np.where(dz>hLbox)] -= Lbox\n",
    "    dx[np.where(dx<-hLbox)] += Lbox\n",
    "    dy[np.where(dy<-hLbox)] += Lbox\n",
    "    dz[np.where(dz<-hLbox)] += Lbox\n",
    "\n",
    "    r2 = dx**2 + dy**2 + dz**2\n",
    "    r = np.sqrt(r2)\n",
    "    \n",
    "    ### Laguerre pair counts:\n",
    "    r = r[(r>=rmin) & (r<=rmax)]\n",
    "    if len(r) > 0:\n",
    "        s = r/sigma\n",
    "        for k in range(nk):\n",
    "            fbasis[k] += np.sum(f[k](s))/Nt\n",
    "        #E1 = special.erf(s/sqrt(2))\n",
    "        #E2 = sqrt(2/pi)*np.exp(-s**2/2)\n",
    "        #fbasis[0] += sum((s+1/s) * E1 + E2)/Nt\n",
    "        #fbasis[1] += sum(3 + s**2)/Nt\n",
    "        #fbasis[2] += sum((s**3+6*s+3/s) * E1 + (s**2+5) * E2)/Nt\n",
    "        #fbasis[3] += sum(s**4+10*s**2+15)/Nt\n",
    "        #fbasis[4] += sum((s**5+15*s**3+45*s+15/s) * E1 + (s**2+3)*(s**2+11) * E2)/Nt\n",
    "        #fbasis[5] += sum(s**6 + 21*s**4 + 105*s**2 + 105)/Nt\n",
    "        #fbasis[6] += sum((s**7+28*s**5+210*s**3+420*s+105/s)*E1 + (s**6+27*s**4+185*s**2+279)*E2)/Nt\n",
    "        #fbasis[7] += sum(s**8 + 36*s**6 + 378*s**4 + 1260*s**2 + 945)/Nt\n",
    "        #fbasis[8] += sum((s**9+45*s**7+630*s**5+3150*s**3+4725*s+945/s)*E1 + (s**8+44*s**6+588*s**4+2640*s**2+2895)*E2)/Nt\n",
    "    \n",
    "        \n",
    "fbasis = fbasis*2 / (Nt-1)\n",
    "    \n",
    "\n",
    "t1 = time.time() \n",
    "print('Time =', t1-t0)"
   ]
  },
  {
   "cell_type": "code",
   "execution_count": 9,
   "metadata": {},
   "outputs": [],
   "source": [
    "V = np.zeros(nk)\n",
    "for k in range(nk):\n",
    "    fun = lambda r: r**2 * f[k](r/sigma)\n",
    "    #func = lambda s: s**2 * f[k](s) \n",
    "    V[k] = quad(fun,rmin, rmax)[0]\n",
    "\n",
    "    \n",
    "nuRR = 4*pi/Lbox**3*V[0:nk]"
   ]
  },
  {
   "cell_type": "code",
   "execution_count": 10,
   "metadata": {},
   "outputs": [],
   "source": [
    "dim = (nk, nk)\n",
    "FRR = np.zeros(dim)\n",
    "for k in range(nk):\n",
    "    for l in range(k,nk):\n",
    "        func = lambda r: r**2 * f[k](r/sigma) * f[l](r/sigma)\n",
    "        #func = lambda s: s**2 * f[k](s) * f[l](s)\n",
    "        FRR[k,l] = (4*pi/Lbox**3)*quad(func, rmin, rmax)[0]\n",
    "        FRR[l,k] = FRR[k,l]"
   ]
  },
  {
   "cell_type": "code",
   "execution_count": 11,
   "metadata": {},
   "outputs": [],
   "source": [
    "invF = np.linalg.inv(FRR)"
   ]
  },
  {
   "cell_type": "code",
   "execution_count": 12,
   "metadata": {},
   "outputs": [
    {
     "name": "stdout",
     "output_type": "stream",
     "text": [
      "Sim: [-2.04157944e+02  8.72214966e+01 -1.61332593e+01  1.68693405e+00\n",
      " -1.09075842e-01  4.46729024e-03 -1.13212374e-04  1.62369764e-06\n",
      " -1.00934396e-08]\n"
     ]
    }
   ],
   "source": [
    "nuDD = fbasis\n",
    "simDiff = nuDD - nuRR\n",
    "aSim = np.dot(invF, simDiff)\n",
    "print ('Sim:', aSim)\n",
    "checkDiff = 0*simDiff\n",
    "for k in range(0,nk):\n",
    "    checkDiff[k] = sum(FRR[k,:]*aSim[:])"
   ]
  },
  {
   "cell_type": "code",
   "execution_count": 13,
   "metadata": {},
   "outputs": [
    {
     "data": {
      "text/plain": [
       "array([1.00454849e-01, 2.17515352e+00, 4.83249781e+01, 1.09706472e+03,\n",
       "       2.53599790e+04, 5.95200839e+05, 1.41500154e+07, 3.40103593e+08,\n",
       "       8.25224406e+09])"
      ]
     },
     "execution_count": 13,
     "metadata": {},
     "output_type": "execute_result"
    }
   ],
   "source": [
    "nuDD"
   ]
  },
  {
   "cell_type": "code",
   "execution_count": 14,
   "metadata": {},
   "outputs": [
    {
     "data": {
      "text/plain": [
       "array([9.99839113e-02, 2.16539251e+00, 4.81168675e+01, 1.09252200e+03,\n",
       "       2.52588557e+04, 5.92912484e+05, 1.40975040e+07, 3.38884042e+08,\n",
       "       8.22362166e+09])"
      ]
     },
     "execution_count": 14,
     "metadata": {},
     "output_type": "execute_result"
    }
   ],
   "source": [
    "nuRR"
   ]
  },
  {
   "cell_type": "code",
   "execution_count": 15,
   "metadata": {},
   "outputs": [
    {
     "data": {
      "text/plain": [
       "array([1.00471014, 1.00450773, 1.00432511, 1.00415802, 1.00400348,\n",
       "       1.00385951, 1.00372487, 1.00359873, 1.00348051])"
      ]
     },
     "execution_count": 15,
     "metadata": {},
     "output_type": "execute_result"
    }
   ],
   "source": [
    "nuDD/nuRR"
   ]
  },
  {
   "cell_type": "code",
   "execution_count": 16,
   "metadata": {},
   "outputs": [],
   "source": [
    "rt = np.arange(60,121)\n",
    "yt = rt/sigma\n",
    "xiSim = 0.0*rt\n",
    "for k in range(nk):\n",
    "    xiSim += aSim[k] * f[k](yt)\n",
    "#E1 = special.erf(yt/sqrt(2))\n",
    "#E2 = sqrt(2/pi)*np.exp(-yt**2/2)\n",
    "#xiSim = 0.0*rt\n",
    "#xiSim = xiSim + aSim[0] * ((yt+1/yt) * E1 + E2) \\\n",
    "#              + aSim[1] * (3 + yt**2) \\\n",
    "#              + aSim[2] * ((yt**3+6*yt+3/yt) * E1 + (yt**2+5) * E2) \\\n",
    "#              + aSim[3] * (yt**4+10*yt**2+15) \\\n",
    "#                + aSim[4] * ((yt**5+15*yt**3+45*yt+15/yt) * E1 + (yt**2+3)*(yt**2+11) * E2) \\\n",
    "#                + aSim[5] * (yt**6 + 21*yt**4 + 105*yt**2 + 105) \\\n",
    "#                + aSim[6] * ((yt**7+28*yt**5+210*yt**3+420*yt+105/yt)*E1 + (yt**6+27*yt**4+185*yt**2+279)*E2) \\\n",
    "#                + aSim[7] * (yt**8 + 36*yt**6 + 378*yt**4 + 1260*yt**2 + 945) \\\n",
    "#                + aSim[8] * ((yt**9+45*yt**7+630*yt**5+3150*yt**3+4725*yt+945/yt)*E1 + (yt**8+44*yt**6+588*yt**4+2640*yt**2+2895)*E2)                    "
   ]
  },
  {
   "cell_type": "code",
   "execution_count": 17,
   "metadata": {},
   "outputs": [
    {
     "data": {
      "image/png": "[encoded data removed]",
      "text/plain": [
       "<Figure size 432x288 with 1 Axes>"
      ]
     },
     "metadata": {
      "needs_background": "light"
     },
     "output_type": "display_data"
    }
   ],
   "source": [
    "plt.plot(rt,xiSim)\n",
    "plt.xlabel(r'$r$')\n",
    "plt.ylabel(r'$\\xi(r)$')\n",
    "plt.show()"
   ]
  },
  {
   "cell_type": "code",
   "execution_count": 27,
   "metadata": {},
   "outputs": [
    {
     "data": {
      "image/png": "[encoded data removed]",
      "text/plain": [
       "<Figure size 432x288 with 1 Axes>"
      ]
     },
     "metadata": {
      "needs_background": "light"
     },
     "output_type": "display_data"
    }
   ],
   "source": [
    "plt.plot(rt,xiSim)\n",
    "plt.xlabel(r'$r$')\n",
    "plt.ylabel(r'$\\xi(r)$')\n",
    "plt.show()"
   ]
  },
  {
   "cell_type": "code",
   "execution_count": 17,
   "metadata": {},
   "outputs": [
    {
     "data": {
      "image/png": "[encoded data removed]",
      "text/plain": [
       "<Figure size 432x288 with 1 Axes>"
      ]
     },
     "metadata": {
      "needs_background": "light"
     },
     "output_type": "display_data"
    }
   ],
   "source": [
    "plt.plot(rt,xiSim)\n",
    "plt.xlabel(r'$r$')\n",
    "plt.ylabel(r'$\\xi(r)$')\n",
    "plt.show()"
   ]
  },
  {
   "cell_type": "code",
   "execution_count": null,
   "metadata": {},
   "outputs": [],
   "source": []
  }
 ],
 "metadata": {
  "kernelspec": {
   "display_name": "Python 3",
   "language": "python",
   "name": "python3"
  },
  "language_info": {
   "codemirror_mode": {
    "name": "ipython",
    "version": 3
   },
   "file_extension": ".py",
   "mimetype": "text/x-python",
   "name": "python",
   "nbconvert_exporter": "python",
   "pygments_lexer": "ipython3",
   "version": "3.8.10"
  }
 },
 "nbformat": 4,
 "nbformat_minor": 2
}
