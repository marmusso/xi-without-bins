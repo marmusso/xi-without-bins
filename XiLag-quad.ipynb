{
 "cells": [
  {
   "cell_type": "code",
<<<<<<< HEAD
   "execution_count": 2,
   "metadata": {
    "collapsed": false
   },
=======
   "execution_count": 1,
   "metadata": {},
>>>>>>> e7d77407b814f58fd5bec04904ce3f0bbac6eb8b
   "outputs": [],
   "source": [
    "import time\n",
    "from math import *\n",
    "import numpy as np\n",
    "from scipy import special\n",
    "from scipy.integrate import quad\n",
    "import matplotlib.pyplot as plt\n",
    "from tqdm import tqdm"
   ]
  },
  {
   "cell_type": "code",
   "execution_count": 3,
   "metadata": {
    "collapsed": true
   },
   "outputs": [],
   "source": [
    "data = np.loadtxt('ACH.dat')"
   ]
  },
  {
   "cell_type": "code",
   "execution_count": 65,
   "metadata": {
    "collapsed": true
   },
   "outputs": [],
   "source": [
    "Lbox = 1100\n",
    "hLbox = Lbox/2\n",
    "\n",
    "Nt = 110000\n",
    "nbar = Nt / Lbox**3\n",
    "\n",
    "nk = 4\n",
    "fbasis = np.zeros(nk+1)\n",
    "\n",
    "nr = 21\n",
    "rmin = 60\n",
    "rmax = 120\n",
    "rmid = (rmax+rmin)/2\n",
    "mu = rmid\n",
    "sigma = 4.6"
   ]
  },
  {
   "cell_type": "code",
   "execution_count": 66,
   "metadata": {
    "collapsed": true
   },
   "outputs": [],
   "source": [
    "sample = np.random.choice(len(data),size=Nt,replace=False)"
   ]
  },
  {
   "cell_type": "code",
   "execution_count": 67,
   "metadata": {
    "collapsed": true
   },
   "outputs": [],
   "source": [
    "x, y, z = data[sample].T"
   ]
  },
  {
   "cell_type": "code",
<<<<<<< HEAD
   "execution_count": 68,
   "metadata": {
    "collapsed": true
   },
=======
   "execution_count": 6,
   "metadata": {},
>>>>>>> e7d77407b814f58fd5bec04904ce3f0bbac6eb8b
   "outputs": [],
   "source": [
    "def E1(s):\n",
    "    return special.erf(s/sqrt(2))\n",
    "\n",
    "def E2(s):\n",
    "    return sqrt(2/pi)*np.exp(-s**2/2)\n",
    "\n",
<<<<<<< HEAD
    "def mu0(s):\n",
    "    return s**0\n",
    "\n",
    "def mu1(s):\n",
=======
    "def f1(s):\n",
>>>>>>> e7d77407b814f58fd5bec04904ce3f0bbac6eb8b
    "    return (s+1/s) * E1(s) + E2(s)\n",
    "\n",
    "def f2(s):\n",
    "    return 3 + s**2\n",
    "\n",
    "def f3(s):\n",
    "    return (s**3+6*s+3/s) * E1(s) + (s**2+5) * E2(s)\n",
    "\n",
    "def f4(s):\n",
    "    return s**4+10*s**2+15\n",
    "\n",
    "def f5(s):\n",
    "    return (s**5+15*s**3+45*s+15/s) * E1(s) + (s**2+3)*(s**2+11) * E2(s)\n",
    "\n",
    "def f6(s):\n",
    "    return s**6 + 21*s**4 + 105*s**2 + 105\n",
    "\n",
    "def f7(s):\n",
    "    return (s**7+28*s**5+210*s**3+420*s+105/s)* E1(s) + (s**6+27*s**4+185*s**2+279)*E2(s)\n",
    "\n",
    "def f8(s):\n",
    "    return s**8 + 36*s**6 + 378*s**4 + 1260*s**2 + 945\n",
    "\n",
    "def f9(s):\n",
    "    return (s**9+45*s**7+630*s**5+3150*s**3+4725*s+945/s)*E1(s) + (s**8+44*s**6+588*s**4+2640*s**2+2895)*sqrt(2/pi)*E2(s)\n",
    "    \n",
    "#def f1(s):\n",
    "#    return ((s/sigma)+1/((s/sigma))) * special.erf((s/sigma)/sqrt(2)) + sqrt(2/pi)*np.exp(-(s/sigma)**2/2)\n",
    "\n",
    "#def f2(s):\n",
    "#    return 3 + (s/sigma)**2\n",
    "\n",
    "#def f3(s):\n",
    "#    return ((s/sigma)**3+6*(s/sigma)+3/(s/sigma)) * special.erf((s/sigma)/sqrt(2)) + ((s/sigma)**2+5) * sqrt(2/pi)*np.exp(-(s/sigma)**2/2)\n",
    "\n",
    "#def f4(s):\n",
    "#    return (s/sigma)**4+10*(s/sigma)**2+15\n",
    "\n",
    "#def f5(s):\n",
    "#    return ((s/sigma)**5+15*(s/sigma)**3+45*(s/sigma)+15/(s/sigma)) * special.erf((s/sigma)/sqrt(2)) + ((s/sigma)**2+5) + ((s/sigma)**2+3)*((s/sigma)**2+11) * sqrt(2/pi)*np.exp(-(s/sigma)**2/2)\n",
    "\n",
    "#def f6(s):\n",
    "#    return (s/sigma)**6 + 21*(s/sigma)**4 + 105*(s/sigma)**2 + 105\n",
    "\n",
    "#def f7(s):\n",
    "#    return ((s/sigma)**7+28*(s/sigma)**5+210*s**3+420*(s/sigma)+105/(s/sigma))* special.erf((s/sigma)/sqrt(2)) + ((s/sigma)**6+27*(s/sigma)**4+185*(s/sigma)**2+279)*sqrt(2/pi)*np.exp(-(s/sigma)**2/2)\n",
    "\n",
    "#def f8(s):\n",
    "#    return (s/sigma)**8 + 36*(s/sigma)**6 + 378*(s/sigma)**4 + 1260*(s/sigma)**2 + 945\n",
    "\n",
    "#def f9(s):\n",
    "#    return ((s/sigma)**9+45*(s/sigma)**7+630*(s/sigma)**5+3150*(s/sigma)**3+4725*(s/sigma)+945/(s/sigma))*special.erf((s/sigma)/sqrt(2)) + ((s/sigma)**8+44*(s/sigma)**6+588*(s/sigma)**4+2640*(s/sigma)**2+2895)*sqrt(2/pi)*np.exp(-(s/sigma)**2/2)\n"
   ]
  },
  {
   "cell_type": "code",
<<<<<<< HEAD
   "execution_count": 69,
   "metadata": {
    "collapsed": true
   },
   "outputs": [],
   "source": [
    "mu = [mu0,mu1,mu2,mu3,mu4]"
=======
   "execution_count": 7,
   "metadata": {},
   "outputs": [],
   "source": [
    "f = [f1,f2,f3,f4,f5,f6,f7,f8,f9]"
>>>>>>> e7d77407b814f58fd5bec04904ce3f0bbac6eb8b
   ]
  },
  {
   "cell_type": "code",
<<<<<<< HEAD
   "execution_count": 70,
   "metadata": {
    "collapsed": false
   },
=======
   "execution_count": 8,
   "metadata": {},
>>>>>>> e7d77407b814f58fd5bec04904ce3f0bbac6eb8b
   "outputs": [
    {
     "name": "stderr",
     "output_type": "stream",
     "text": [
<<<<<<< HEAD
      "100%|██████████| 109999/109999 [08:07<00:00, 225.76it/s] "
=======
      "100%|██████████| 109999/109999 [05:31<00:00, 331.71it/s] "
>>>>>>> e7d77407b814f58fd5bec04904ce3f0bbac6eb8b
     ]
    },
    {
     "name": "stdout",
     "output_type": "stream",
     "text": [
<<<<<<< HEAD
      "Time = 487.25070238113403\n"
=======
      "Time = 331.61658668518066\n"
>>>>>>> e7d77407b814f58fd5bec04904ce3f0bbac6eb8b
     ]
    },
    {
     "name": "stderr",
     "output_type": "stream",
     "text": [
      "\n"
     ]
    }
   ],
   "source": [
    "t0 = time.time()\n",
    "\n",
    "Nb = np.zeros(nr)\n",
    "\n",
    "for i in tqdm(range(Nt-1)):\n",
    "    j = np.arange(i+1,Nt)\n",
    "    \n",
    "    dx = x[i] - x[j]\n",
    "    dy = y[i] - y[j]\n",
    "    dz = z[i] - z[j]\n",
    "        \n",
    "    ### periodic boundary conditions on separations: \n",
    "    dx[np.where(dx>hLbox)] -= Lbox\n",
    "    dy[np.where(dy>hLbox)] -= Lbox\n",
    "    dz[np.where(dz>hLbox)] -= Lbox\n",
    "    dx[np.where(dx<-hLbox)] += Lbox\n",
    "    dy[np.where(dy<-hLbox)] += Lbox\n",
    "    dz[np.where(dz<-hLbox)] += Lbox\n",
    "\n",
    "    r2 = dx**2 + dy**2 + dz**2\n",
    "    r = np.sqrt(r2)\n",
    "    \n",
    "    ### Laguerre pair counts:\n",
    "    r = r[(r>=rmin) & (r<=rmax)]\n",
    "    if len(r) > 0:\n",
    "        s = r/sigma\n",
<<<<<<< HEAD
    "        for k,f in enumerate(mu):\n",
    "            fbasis[k] += np.sum(f(s))/Nt\n",
=======
    "        for k in range(nk):\n",
    "            fbasis[k] += np.sum(f[k](s))/Nt\n",
>>>>>>> e7d77407b814f58fd5bec04904ce3f0bbac6eb8b
    "        #E1 = special.erf(s/sqrt(2))\n",
    "        #E2 = sqrt(2/pi)*np.exp(-s**2/2)\n",
    "        #fbasis[0] += sum((s+1/s) * E1 + E2)/Nt\n",
    "        #fbasis[1] += sum(3 + s**2)/Nt\n",
    "        #fbasis[2] += sum((s**3+6*s+3/s) * E1 + (s**2+5) * E2)/Nt\n",
    "        #fbasis[3] += sum(s**4+10*s**2+15)/Nt\n",
    "        #fbasis[4] += sum((s**5+15*s**3+45*s+15/s) * E1 + (s**2+3)*(s**2+11) * E2)/Nt\n",
    "        #fbasis[5] += sum(s**6 + 21*s**4 + 105*s**2 + 105)/Nt\n",
    "        #fbasis[6] += sum((s**7+28*s**5+210*s**3+420*s+105/s)*E1 + (s**6+27*s**4+185*s**2+279)*E2)/Nt\n",
    "        #fbasis[7] += sum(s**8 + 36*s**6 + 378*s**4 + 1260*s**2 + 945)/Nt\n",
    "        #fbasis[8] += sum((s**9+45*s**7+630*s**5+3150*s**3+4725*s+945/s)*E1 + (s**8+44*s**6+588*s**4+2640*s**2+2895)*E2)/Nt\n",
    "    \n",
    "        \n",
    "fbasis = fbasis*2 / (Nt-1)\n",
    "    \n",
    "\n",
    "t1 = time.time() \n",
    "print('Time =', t1-t0)"
   ]
  },
  {
   "cell_type": "code",
<<<<<<< HEAD
   "execution_count": 71,
   "metadata": {
    "collapsed": false
   },
   "outputs": [],
   "source": [
    "V = np.zeros(nk+1)\n",
    "for k in range(nk+1):\n",
    "    fun = lambda r: r**2 * mu[k](r/sigma)\n",
=======
   "execution_count": 9,
   "metadata": {},
   "outputs": [],
   "source": [
    "V = np.zeros(nk)\n",
    "for k in range(nk):\n",
    "    fun = lambda r: r**2 * f[k](r/sigma)\n",
>>>>>>> e7d77407b814f58fd5bec04904ce3f0bbac6eb8b
    "    #func = lambda s: s**2 * f[k](s) \n",
    "    V[k] = quad(fun,rmin, rmax)[0]\n",
    "\n",
    "    \n",
    "nuRR = 4*pi/Lbox**3*V[0:nk+1]"
   ]
  },
  {
   "cell_type": "code",
<<<<<<< HEAD
   "execution_count": 72,
   "metadata": {
    "collapsed": true
   },
=======
   "execution_count": 10,
   "metadata": {},
>>>>>>> e7d77407b814f58fd5bec04904ce3f0bbac6eb8b
   "outputs": [],
   "source": [
    "dim = (nk+1, nk+1)\n",
    "FRR = np.zeros(dim)\n",
<<<<<<< HEAD
    "for k in range(nk+1):\n",
    "    for l in range(k,nk+1):\n",
    "        func = lambda r: r**2 * mu[k](r/sigma) * mu[l](r/sigma)\n",
=======
    "for k in range(nk):\n",
    "    for l in range(k,nk):\n",
    "        func = lambda r: r**2 * f[k](r/sigma) * f[l](r/sigma)\n",
>>>>>>> e7d77407b814f58fd5bec04904ce3f0bbac6eb8b
    "        #func = lambda s: s**2 * f[k](s) * f[l](s)\n",
    "        FRR[k,l] = (4*pi/Lbox**3)*quad(func, rmin, rmax)[0]\n",
    "        FRR[l,k] = FRR[k,l]"
   ]
  },
  {
   "cell_type": "code",
<<<<<<< HEAD
   "execution_count": 73,
   "metadata": {
    "collapsed": true
   },
=======
   "execution_count": 11,
   "metadata": {},
>>>>>>> e7d77407b814f58fd5bec04904ce3f0bbac6eb8b
   "outputs": [],
   "source": [
    "invF = np.linalg.inv(FRR)"
   ]
  },
  {
   "cell_type": "code",
<<<<<<< HEAD
   "execution_count": 74,
   "metadata": {
    "collapsed": false
   },
=======
   "execution_count": 12,
   "metadata": {},
   "outputs": [
    {
     "name": "stdout",
     "output_type": "stream",
     "text": [
      "Sim: [-2.04157944e+02  8.72214966e+01 -1.61332593e+01  1.68693405e+00\n",
      " -1.09075842e-01  4.46729024e-03 -1.13212374e-04  1.62369764e-06\n",
      " -1.00934396e-08]\n"
     ]
    }
   ],
   "source": [
    "nuDD = fbasis\n",
    "simDiff = nuDD - nuRR\n",
    "aSim = np.dot(invF, simDiff)\n",
    "print ('Sim:', aSim)\n",
    "checkDiff = 0*simDiff\n",
    "for k in range(0,nk):\n",
    "    checkDiff[k] = sum(FRR[k,:]*aSim[:])"
   ]
  },
  {
   "cell_type": "code",
   "execution_count": 13,
   "metadata": {},
>>>>>>> e7d77407b814f58fd5bec04904ce3f0bbac6eb8b
   "outputs": [
    {
     "data": {
      "text/plain": [
<<<<<<< HEAD
       "array([  4.78245554e-03,   1.00468933e-01,   2.17551573e+00,\n",
       "         4.83342235e+01,   1.09729913e+03])"
      ]
     },
     "execution_count": 74,
=======
       "array([1.00454849e-01, 2.17515352e+00, 4.83249781e+01, 1.09706472e+03,\n",
       "       2.53599790e+04, 5.95200839e+05, 1.41500154e+07, 3.40103593e+08,\n",
       "       8.25224406e+09])"
      ]
     },
     "execution_count": 13,
>>>>>>> e7d77407b814f58fd5bec04904ce3f0bbac6eb8b
     "metadata": {},
     "output_type": "execute_result"
    }
   ],
   "source": [
    "nuDD"
   ]
  },
  {
   "cell_type": "code",
<<<<<<< HEAD
   "execution_count": 75,
   "metadata": {
    "collapsed": false
   },
=======
   "execution_count": 14,
   "metadata": {},
>>>>>>> e7d77407b814f58fd5bec04904ce3f0bbac6eb8b
   "outputs": [
    {
     "data": {
      "text/plain": [
       "array([  4.75841532e-03,   9.99839113e-02,   2.16539251e+00,\n",
       "         4.81168675e+01,   1.09252200e+03])"
      ]
     },
<<<<<<< HEAD
     "execution_count": 75,
=======
     "execution_count": 14,
>>>>>>> e7d77407b814f58fd5bec04904ce3f0bbac6eb8b
     "metadata": {},
     "output_type": "execute_result"
    }
   ],
   "source": [
    "nuRR"
   ]
  },
  {
   "cell_type": "code",
<<<<<<< HEAD
   "execution_count": 76,
   "metadata": {
    "collapsed": false
   },
=======
   "execution_count": 15,
   "metadata": {},
>>>>>>> e7d77407b814f58fd5bec04904ce3f0bbac6eb8b
   "outputs": [
    {
     "data": {
      "text/plain": [
<<<<<<< HEAD
       "array([ 1.00505215,  1.00485099,  1.004675  ,  1.00451725,  1.00437257])"
      ]
     },
     "execution_count": 76,
=======
       "array([1.00471014, 1.00450773, 1.00432511, 1.00415802, 1.00400348,\n",
       "       1.00385951, 1.00372487, 1.00359873, 1.00348051])"
      ]
     },
     "execution_count": 15,
>>>>>>> e7d77407b814f58fd5bec04904ce3f0bbac6eb8b
     "metadata": {},
     "output_type": "execute_result"
    }
   ],
   "source": [
    "nuDD/nuRR"
   ]
  },
  {
   "cell_type": "code",
<<<<<<< HEAD
   "execution_count": 77,
   "metadata": {
    "collapsed": false
   },
   "outputs": [
    {
     "name": "stdout",
     "output_type": "stream",
     "text": [
      "Sim: [  8.70659277e-01  -1.65895182e-01   1.16223228e-02  -3.52460403e-04\n",
      "   3.89953761e-06]\n"
     ]
    }
   ],
=======
   "execution_count": 16,
   "metadata": {},
   "outputs": [],
>>>>>>> e7d77407b814f58fd5bec04904ce3f0bbac6eb8b
   "source": [
    "rt = np.arange(60,121)\n",
    "yt = rt/sigma\n",
    "xiSim = 0.0*rt\n",
    "for k in range(nk):\n",
    "    xiSim += aSim[k] * f[k](yt)\n",
    "#E1 = special.erf(yt/sqrt(2))\n",
    "#E2 = sqrt(2/pi)*np.exp(-yt**2/2)\n",
    "#xiSim = 0.0*rt\n",
    "#xiSim = xiSim + aSim[0] * ((yt+1/yt) * E1 + E2) \\\n",
    "#              + aSim[1] * (3 + yt**2) \\\n",
    "#              + aSim[2] * ((yt**3+6*yt+3/yt) * E1 + (yt**2+5) * E2) \\\n",
    "#              + aSim[3] * (yt**4+10*yt**2+15) \\\n",
    "#                + aSim[4] * ((yt**5+15*yt**3+45*yt+15/yt) * E1 + (yt**2+3)*(yt**2+11) * E2) \\\n",
    "#                + aSim[5] * (yt**6 + 21*yt**4 + 105*yt**2 + 105) \\\n",
    "#                + aSim[6] * ((yt**7+28*yt**5+210*yt**3+420*yt+105/yt)*E1 + (yt**6+27*yt**4+185*yt**2+279)*E2) \\\n",
    "#                + aSim[7] * (yt**8 + 36*yt**6 + 378*yt**4 + 1260*yt**2 + 945) \\\n",
    "#                + aSim[8] * ((yt**9+45*yt**7+630*yt**5+3150*yt**3+4725*yt+945/yt)*E1 + (yt**8+44*yt**6+588*yt**4+2640*yt**2+2895)*E2)                    "
   ]
  },
  {
   "cell_type": "code",
<<<<<<< HEAD
   "execution_count": 78,
   "metadata": {
    "collapsed": false
   },
   "outputs": [
    {
     "name": "stdout",
     "output_type": "stream",
     "text": [
      "Sim: [  8.70659277e-01  -1.65895182e-01   1.16223228e-02  -3.52460403e-04\n",
      "   3.89953761e-06]\n"
     ]
=======
   "execution_count": 17,
   "metadata": {},
   "outputs": [
    {
     "data": {
      "image/png": "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\n",
      "text/plain": [
       "<Figure size 432x288 with 1 Axes>"
      ]
     },
     "metadata": {
      "needs_background": "light"
     },
     "output_type": "display_data"
>>>>>>> e7d77407b814f58fd5bec04904ce3f0bbac6eb8b
    }
   ],
   "source": [
    "plt.plot(rt,xiSim)\n",
    "plt.xlabel(r'$r$')\n",
    "plt.ylabel(r'$\\xi(r)$')\n",
    "plt.show()"
   ]
  },
  {
   "cell_type": "code",
<<<<<<< HEAD
   "execution_count": 81,
   "metadata": {
    "collapsed": true
   },
   "outputs": [],
   "source": [
    "rt = np.arange(60,121)\n",
    "yt = rt/sigma\n",
    "E1 = special.erf(yt/sqrt(2))\n",
    "E2 = sqrt(2/pi)*np.exp(-yt**2/2)\n",
    "xiSim = 0.0*rt\n",
    "xiSim = xiSim + aSim[0] * yt**0 \\\n",
    "              + aSim[1] * ((yt+1/yt) * E1 + E2) \\\n",
    "              + aSim[2] * (3 + yt**2) \\\n",
    "              + aSim[3] * ((yt**3+6*yt+3/yt) * E1 + (yt**2+5) * E2) \\\n",
    "              + aSim[4] * (yt**4+10*yt**2+15) \n",
    "                #+ aSim[4] * ((yt**5+15*yt**3+45*yt+15/yt) * E1 + (yt**2+3)*(yt**2+11) * E2)\n",
    "                #+ aSim[5] * (yt**6 + 21*yt**4 + 105*yt**2 + 105) \\\n",
    "                #+ aSim[6] * ((yt**7+28*yt**5+210*yt**3+420*yt+105/yt)*E1 + (yt**6+27*yt**4+185*yt**2+279)*E2) \\\n",
    "                #+ aSim[7] * (yt**8 + 36*yt**6 + 378*yt**4 + 1260*yt**2 + 945) \\\n",
    "                #+ aSim[8] * ((yt**9+45*yt**7+630*yt**5+3150*yt**3+4725*yt+945/yt)*E1 + (yt**8+44*yt**6+588*yt**4+2640*yt**2+2895)*E2)                    "
=======
   "execution_count": 27,
   "metadata": {},
   "outputs": [
    {
     "data": {
      "image/png": "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\n",
      "text/plain": [
       "<Figure size 432x288 with 1 Axes>"
      ]
     },
     "metadata": {
      "needs_background": "light"
     },
     "output_type": "display_data"
    }
   ],
   "source": [
    "plt.plot(rt,xiSim)\n",
    "plt.xlabel(r'$r$')\n",
    "plt.ylabel(r'$\\xi(r)$')\n",
    "plt.show()"
>>>>>>> e7d77407b814f58fd5bec04904ce3f0bbac6eb8b
   ]
  },
  {
   "cell_type": "code",
<<<<<<< HEAD
   "execution_count": 82,
   "metadata": {
    "collapsed": false
   },
   "outputs": [
    {
     "data": {
      "image/png": "iVBORw0KGgoAAAANSUhEUgAAAZYAAAELCAYAAAD6AKALAAAABHNCSVQICAgIfAhkiAAAAAlwSFlz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\nRK5CYII=\n",
      "text/plain": [
       "<matplotlib.figure.Figure at 0x7f1870c0a160>"
      ]
     },
     "metadata": {},
     "output_type": "display_data"
    }
   ],
   "source": [
    "plt.plot(rt,xiSim)\n",
    "plt.xlabel(r'$r$')\n",
    "plt.ylabel(r'$\\xi(r)$')\n",
    "plt.show()"
   ]
  },
  {
   "cell_type": "code",
   "execution_count": null,
   "metadata": {
    "collapsed": true
   },
   "outputs": [],
   "source": []
  },
  {
   "cell_type": "code",
   "execution_count": null,
   "metadata": {
    "collapsed": true
   },
   "outputs": [],
   "source": []
  },
  {
   "cell_type": "code",
   "execution_count": null,
   "metadata": {
    "collapsed": true
   },
   "outputs": [],
   "source": [
    "5"
   ]
  },
  {
   "cell_type": "code",
   "execution_count": 64,
   "metadata": {
    "collapsed": false
   },
   "outputs": [
    {
     "data": {
      "image/png": "iVBORw0KGgoAAAANSUhEUgAAAZQAAAELCAYAAAD+9XA2AAAABHNCSVQICAgIfAhkiAAAAAlwSFlz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\nN8q7DTZY+xcAAAAASUVORK5CYII=\n",
      "text/plain": [
       "<matplotlib.figure.Figure at 0x7f1898f76b00>"
=======
   "execution_count": 17,
   "metadata": {},
   "outputs": [
    {
     "data": {
      "image/png": "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\n",
      "text/plain": [
       "<Figure size 432x288 with 1 Axes>"
>>>>>>> e7d77407b814f58fd5bec04904ce3f0bbac6eb8b
      ]
     },
     "metadata": {
      "needs_background": "light"
     },
     "output_type": "display_data"
    }
   ],
   "source": [
    "plt.plot(rt,xiSim)\n",
    "plt.xlabel(r'$r$')\n",
    "plt.ylabel(r'$\\xi(r)$')\n",
    "plt.show()"
   ]
  },
  {
   "cell_type": "code",
   "execution_count": null,
   "metadata": {},
   "outputs": [],
   "source": []
  }
 ],
 "metadata": {
  "kernelspec": {
   "display_name": "Python 3",
   "language": "python",
   "name": "python3"
  },
  "language_info": {
   "codemirror_mode": {
    "name": "ipython",
    "version": 3
   },
   "file_extension": ".py",
   "mimetype": "text/x-python",
   "name": "python",
   "nbconvert_exporter": "python",
   "pygments_lexer": "ipython3",
   "version": "3.5.3"
  }
 },
 "nbformat": 4,
 "nbformat_minor": 2
}
