{
 "cells": [
  {
   "cell_type": "code",
   "execution_count": 137,
   "metadata": {
    "collapsed": true
   },
   "outputs": [],
   "source": [
    "import time\n",
    "from math import *\n",
    "import numpy as np\n",
    "import scipy\n",
    "from scipy import special\n",
    "from scipy.integrate import quad\n",
    "import matplotlib.pyplot as plt\n",
    "from tqdm import tqdm"
   ]
  },
  {
   "cell_type": "code",
   "execution_count": 138,
   "metadata": {
    "collapsed": true
   },
   "outputs": [],
   "source": [
    "data = np.loadtxt('ACH.dat')"
   ]
  },
  {
   "cell_type": "code",
   "execution_count": 139,
   "metadata": {
    "collapsed": false
   },
   "outputs": [],
   "source": [
    "Lbox = 1100\n",
    "hLbox = Lbox/2\n",
    "\n",
    "Nt = 114528\n",
    "nbar = Nt / Lbox**3\n",
    "\n",
    "nk = 8\n",
    "fbasis = np.zeros(nk)\n",
    "\n",
    "nr = 21\n",
    "rmin = 60\n",
    "rmax = 120\n",
    "rmid = (rmax+rmin)/2\n",
    "mu = rmid\n",
    "sigma = 4.6\n",
    "c = -mu/sigma"
   ]
  },
  {
   "cell_type": "code",
   "execution_count": 140,
   "metadata": {
    "collapsed": false
   },
   "outputs": [],
   "source": [
    "sample = np.random.choice(len(data),size=Nt,replace=False)"
   ]
  },
  {
   "cell_type": "code",
   "execution_count": 141,
   "metadata": {
    "collapsed": true
   },
   "outputs": [],
   "source": [
    "x, y, z = data[sample].T"
   ]
  },
  {
   "cell_type": "code",
   "execution_count": 142,
   "metadata": {
    "collapsed": true
   },
   "outputs": [],
   "source": [
    "def E1(s):\n",
    "    return special.erf(s/sqrt(2))\n",
    "\n",
    "def E2(s):\n",
    "    return sqrt(2/pi)*np.exp(-s**2/2)\n",
    "\n",
    "def f1(s):\n",
    "    return (s+1/s) * E1(s) + E2(s)\n",
    "\n",
    "def f2(s):\n",
    "    return 3 + s**2\n",
    "\n",
    "def f3(s):\n",
    "    return (s**3+6*s+3/s) * E1(s) + (s**2+5) * E2(s)\n",
    "\n",
    "def f4(s):\n",
    "    return s**4+10*s**2+15\n",
    "\n",
    "def f5(s):\n",
    "    return (s**5+15*s**3+45*s+15/s) * E1(s) + (s**2+3)*(s**2+11) * E2(s)\n",
    "\n",
    "def f6(s):\n",
    "    return s**6 + 21*s**4 + 105*s**2 + 105\n",
    "\n",
    "def f7(s):\n",
    "    return (s**7+28*s**5+210*s**3+420*s+105/s)* E1(s) + (s**6+27*s**4+185*s**2+279)*E2(s)\n",
    "\n",
    "def f8(s):\n",
    "    return s**8 + 36*s**6 + 378*s**4 + 1260*s**2 + 945\n",
    "\n",
    "def f9(s):\n",
    "    return (s**9+45*s**7+630*s**5+3150*s**3+4725*s+945/s)*E1(s) + (s**8+44*s**6+588*s**4+2640*s**2+2895)*E2(s)"
   ]
  },
  {
   "cell_type": "code",
   "execution_count": 143,
   "metadata": {
    "collapsed": true
   },
   "outputs": [],
   "source": [
    "f = [f1,f2,f3,f4,f5,f6,f7,f8]"
   ]
  },
  {
   "cell_type": "code",
   "execution_count": 144,
   "metadata": {
    "collapsed": false
   },
   "outputs": [],
   "source": [
    "def nu0(s):\n",
    "    return f0(s)\n",
    "\n",
    "def nu1(s):\n",
    "    res = 0\n",
    "    for l in range(1):\n",
    "        res += scipy.special.comb(1,l) * c**(1-l) * f[l](s)\n",
    "    return res\n",
    "\n",
    "def nu2(s):\n",
    "    res = 0\n",
    "    for l in range(2):\n",
    "        res += scipy.special.comb(2,l) * c**(2-l) * f[l](s)\n",
    "    return res\n",
    "\n",
    "def nu3(s):\n",
    "    res = 0\n",
    "    for l in range(3):\n",
    "        res += scipy.special.comb(3,l) * c**(3-l) * f[l](s)\n",
    "    return res\n",
    "\n",
    "def nu4(s):\n",
    "    res = 0\n",
    "    for l in range(4):\n",
    "        res += scipy.special.comb(4,l) * c**(4-l) * f[l](s)\n",
    "    return res\n",
    "\n",
    "def nu5(s):\n",
    "    res = 0\n",
    "    for l in range(5):\n",
    "        res += scipy.special.comb(5,l) * c**(5-l) * f[l](s)\n",
    "    return res\n",
    "\n",
    "def nu6(s):\n",
    "    res = 0\n",
    "    for l in range(6):\n",
    "        res += scipy.special.comb(6,l) * c**(6-l) * f[l](s)\n",
    "    return res\n",
    "\n",
    "def nu7(s):\n",
    "    res = 0\n",
    "    for l in range(7):\n",
    "        res += scipy.special.comb(7,l) * c**(7-l) * f[l](s)\n",
    "    return res\n",
    "\n",
    "def nu8(s):\n",
    "    res = 0\n",
    "    for l in range(8):\n",
    "        res += scipy.special.comb(8,l) * c**(8-l) * f[l](s)\n",
    "    return res\n",
    "\n",
    "def nu9(s):\n",
    "    res = 0\n",
    "    for l in range(9):\n",
    "        res += scipy.special.comb(9,l) * c**(9-l) * f[l](s)\n",
    "    return res"
   ]
  },
  {
   "cell_type": "code",
   "execution_count": 145,
   "metadata": {
    "collapsed": false
   },
   "outputs": [],
   "source": [
    "nu = [nu1,nu2,nu3,nu4,nu5,nu6,nu7,nu8]"
   ]
  },
  {
   "cell_type": "code",
   "execution_count": 146,
   "metadata": {
    "collapsed": false
   },
   "outputs": [
    {
     "name": "stderr",
     "output_type": "stream",
     "text": [
      "100%|██████████| 114527/114527 [15:56<00:00, 119.68it/s]"
     ]
    },
    {
     "name": "stdout",
     "output_type": "stream",
     "text": [
      "Time = 956.9525260925293\n"
     ]
    },
    {
     "name": "stderr",
     "output_type": "stream",
     "text": [
      "\n"
     ]
    }
   ],
   "source": [
    "t0 = time.time()\n",
    "\n",
    "Nb = np.zeros(nr)\n",
    "\n",
    "for i in tqdm(range(Nt-1)):\n",
    "    j = np.arange(i+1,Nt)\n",
    "    \n",
    "    dx = x[i] - x[j]\n",
    "    dy = y[i] - y[j]\n",
    "    dz = z[i] - z[j]\n",
    "        \n",
    "    ### periodic boundary conditions on separations: \n",
    "    dx[np.where(dx>hLbox)] -= Lbox\n",
    "    dy[np.where(dy>hLbox)] -= Lbox\n",
    "    dz[np.where(dz>hLbox)] -= Lbox\n",
    "    dx[np.where(dx<-hLbox)] += Lbox\n",
    "    dy[np.where(dy<-hLbox)] += Lbox\n",
    "    dz[np.where(dz<-hLbox)] += Lbox\n",
    "\n",
    "    r2 = dx**2 + dy**2 + dz**2\n",
    "    r = np.sqrt(r2)\n",
    "    \n",
    "    ### bin pair counts:\n",
    "    hi, bins = np.histogram(r, bins=nr, range=(rmin,rmax))\n",
    "    Nb += hi\n",
    "    \n",
    "    ### Laguerre pair counts:\n",
    "    r = r[(r>=rmin) & (r<=rmax)]\n",
    "    if len(r) > 0:\n",
    "        s = r/sigma\n",
    "        for k in range(nk):\n",
    "            fbasis[k] += np.sum(nu[k](s))/Nt\n",
    "    \n",
    "        \n",
    "fbasis = fbasis*2 / (Nt-1)\n",
    "    \n",
    "\n",
    "t1 = time.time() \n",
    "print('Time =', t1-t0)"
   ]
  },
  {
   "cell_type": "code",
   "execution_count": 147,
   "metadata": {
    "collapsed": true
   },
   "outputs": [],
   "source": [
    "DD = 2*Nb\n",
    "\n",
    "dr = bins[1] - bins[0]\n",
    "rbin = (bins[1:] + bins[:-1])/2\n",
    "\n",
    "RR = (Nt-1)*nbar*4*pi/3*(bins[1:]**3-bins[:-1]**3)\n",
    "        \n",
    "Xi12 = DD/RR - 1  \n",
    "\n",
    "sqrtN = np.sqrt(2*Nb)\n",
    "errxi = sqrtN/RR"
   ]
  },
  {
   "cell_type": "code",
   "execution_count": 148,
   "metadata": {
    "collapsed": false
   },
   "outputs": [
    {
     "data": {
      "image/png": "[encoded data removed]",
      "text/plain": [
       "<matplotlib.figure.Figure at 0x7f786554dbe0>"
      ]
     },
     "metadata": {},
     "output_type": "display_data"
    }
   ],
   "source": [
    "### plot binned xi:\n",
    "plt.plot(rbin,Xi12)\n",
    "plt.xlabel(r'$r$')\n",
    "plt.ylabel(r'$\\xi(r)$')\n",
    "plt.show()"
   ]
  },
  {
   "cell_type": "code",
   "execution_count": 149,
   "metadata": {
    "collapsed": false
   },
   "outputs": [
    {
     "data": {
      "image/png": "[encoded data removed]",
      "text/plain": [
       "<matplotlib.figure.Figure at 0x7f78633f4668>"
      ]
     },
     "metadata": {},
     "output_type": "display_data"
    }
   ],
   "source": [
    "### check if a polynomial is an ok fit to it:\n",
    "xbin = (rbin - mu)/sigma\n",
    "aFit = np.polyfit(xbin, Xi12, nk)\n",
    "p = np.poly1d(aFit)\n",
    "plt.plot(xbin,Xi12, xbin, p(xbin), '--')\n",
    "plt.legend([\"xibinned\"])\n",
    "plt.show()"
   ]
  },
  {
   "cell_type": "code",
   "execution_count": 150,
   "metadata": {
    "collapsed": false
   },
   "outputs": [],
   "source": [
    "### setting up the vector of RR:\n",
    "V = np.zeros(nk)\n",
    "for k in range(nk):\n",
    "    fun = lambda r: r**2 * nu[k](r/sigma)\n",
    "    V[k] = quad(fun,rmin, rmax)[0]\n",
    "\n",
    "    \n",
    "nuRR = 4*pi/Lbox**3*V[0:nk]"
   ]
  },
  {
   "cell_type": "code",
   "execution_count": 151,
   "metadata": {
    "collapsed": false
   },
   "outputs": [],
   "source": [
    "### the corresponding F_RR:\n",
    "dim = (nk, nk)\n",
    "FRR = np.zeros(dim)\n",
    "for k in range(nk):\n",
    "    for l in range(k,nk):\n",
    "        func = lambda r: r**2 * nu[k](r/sigma) * nu[l](r/sigma)\n",
    "        FRR[k,l] = (4*pi/Lbox**3)*quad(func, rmin, rmax)[0]\n",
    "        FRR[l,k] = FRR[k,l]"
   ]
  },
  {
   "cell_type": "code",
   "execution_count": 152,
   "metadata": {
    "collapsed": false
   },
   "outputs": [],
   "source": [
    "invF = np.linalg.inv(FRR)"
   ]
  },
  {
   "cell_type": "code",
   "execution_count": 153,
   "metadata": {
    "collapsed": false
   },
   "outputs": [
    {
     "name": "stdout",
     "output_type": "stream",
     "text": [
      "Sim: [  3.36636491e-04  -2.36459399e-04  -6.91700947e-06   2.62565041e-06\n",
      "  -1.93821745e-08  -9.63148190e-09   4.15386218e-10  -5.09318891e-12]\n"
     ]
    }
   ],
   "source": [
    "nuDD = fbasis\n",
    "simDiff = nuDD - nuRR\n",
    "aSim = np.zeros(nk)\n",
    "aSim = np.dot(invF, simDiff)\n",
    "print ('Sim:', aSim)\n",
    "checkDiff = 0*simDiff\n",
    "for k in range(0,nk):\n",
    "    checkDiff[k] = sum(FRR[k,:]*aSim[:])"
   ]
  },
  {
   "cell_type": "code",
   "execution_count": 154,
   "metadata": {
    "collapsed": false
   },
   "outputs": [],
   "source": [
    "rt = np.arange(60,121)\n",
    "yt = rt/sigma\n",
    "xiSim = 0.0*rt\n",
    "for k in range(nk):\n",
    "    xiSim += aSim[k] * nu[k](yt)"
   ]
  },
  {
   "cell_type": "code",
   "execution_count": 155,
   "metadata": {
    "collapsed": false
   },
   "outputs": [
    {
     "data": {
      "image/png": "[encoded data removed]",
      "text/plain": [
       "<matplotlib.figure.Figure at 0x7f78641cdac8>"
      ]
     },
     "metadata": {},
     "output_type": "display_data"
    }
   ],
   "source": [
    "### plot unbinned Laguerre fit:     nk = 8\n",
    "plt.plot(rt,xiSim)\n",
    "plt.xlabel(r'$r$')\n",
    "plt.ylabel(r'$\\xi(r)$')\n",
    "plt.legend([\"xiSim\"])\n",
    "plt.show()"
   ]
  },
  {
   "cell_type": "code",
   "execution_count": 156,
   "metadata": {
    "collapsed": false
   },
   "outputs": [
    {
     "data": {
      "image/png": "[encoded data removed]",
      "text/plain": [
       "<matplotlib.figure.Figure at 0x7f7864174cf8>"
      ]
     },
     "metadata": {},
     "output_type": "display_data"
    }
   ],
   "source": [
    "plt.plot(rt,xiSim)\n",
    "plt.plot(rbin,Xi12)\n",
    "plt.xlabel(r'$r$')\n",
    "plt.ylabel(r'$\\xi(r)$')\n",
    "plt.legend([\"xiSim\", \"xibinned\"])\n",
    "plt.show()"
   ]
  },
  {
   "cell_type": "code",
   "execution_count": null,
   "metadata": {
    "collapsed": true
   },
   "outputs": [],
   "source": []
  },
  {
   "cell_type": "code",
   "execution_count": 126,
   "metadata": {
    "collapsed": false
   },
   "outputs": [
    {
     "data": {
      "image/png": "[encoded data removed]",
      "text/plain": [
       "<matplotlib.figure.Figure at 0x7f788d7c2e10>"
      ]
     },
     "metadata": {},
     "output_type": "display_data"
    }
   ],
   "source": [
    "### plot unbinned Laguerre fit:      nk = 9\n",
    "plt.plot(rt,xiSim)\n",
    "plt.xlabel(r'$r$')\n",
    "plt.ylabel(r'$\\xi(r)$')\n",
    "plt.legend([\"xiSim\"])\n",
    "plt.show()"
   ]
  },
  {
   "cell_type": "code",
   "execution_count": null,
   "metadata": {
    "collapsed": true
   },
   "outputs": [],
   "source": []
  }
 ],
 "metadata": {
  "kernelspec": {
   "display_name": "Python 3",
   "language": "python",
   "name": "python3"
  },
  "language_info": {
   "codemirror_mode": {
    "name": "ipython",
    "version": 3
   },
   "file_extension": ".py",
   "mimetype": "text/x-python",
   "name": "python",
   "nbconvert_exporter": "python",
   "pygments_lexer": "ipython3",
   "version": "3.5.3"
  }
 },
 "nbformat": 4,
 "nbformat_minor": 2
}
