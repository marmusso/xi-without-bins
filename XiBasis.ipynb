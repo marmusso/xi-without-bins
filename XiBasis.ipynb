{
 "cells": [
  {
   "cell_type": "code",
   "execution_count": 8,
   "metadata": {
    "collapsed": true
   },
   "outputs": [],
   "source": [
    "import time\n",
    "from math import *\n",
    "import numpy as np\n",
    "import matplotlib.pyplot as plt\n",
    "import numpy.polynomial.polynomial as poly"
   ]
  },
  {
   "cell_type": "code",
   "execution_count": 9,
   "metadata": {
    "collapsed": true
   },
   "outputs": [],
   "source": [
    "data = np.loadtxt('ACH.dat')"
   ]
  },
  {
   "cell_type": "code",
   "execution_count": 10,
   "metadata": {
    "collapsed": true
   },
   "outputs": [],
   "source": [
    "Lbox = 1100\n",
    "hLbox = Lbox/2\n",
    "\n",
    "Nt = 110000\n",
    "nbar = Nt / Lbox**3\n",
    "\n",
    "nk = 5\n",
    "fbasis = np.zeros(nk+1)\n",
    "\n",
    "nr = 21\n",
    "rmin = 60\n",
    "rmax = 120\n",
    "rmid = (rmax+rmin)/2\n",
    "mu = rmid\n",
    "scale = 4.6"
   ]
  },
  {
   "cell_type": "code",
   "execution_count": 11,
   "metadata": {
    "collapsed": true
   },
   "outputs": [],
   "source": [
    "sample = np.random.choice(len(data),size=Nt,replace=False)"
   ]
  },
  {
   "cell_type": "code",
   "execution_count": 12,
   "metadata": {
    "collapsed": true
   },
   "outputs": [],
   "source": [
    "x, y, z = data[sample].T"
   ]
  },
  {
   "cell_type": "code",
   "execution_count": 13,
   "metadata": {},
   "outputs": [
    {
     "name": "stdout",
     "output_type": "stream",
     "text": [
      "Time = 729.7711913585663\n"
     ]
    }
   ],
   "source": [
    "t0 = time.time()\n",
    "\n",
    "Nb = np.zeros(nr)\n",
    "\n",
    "for i in range(0,Nt-1):\n",
    "    j = np.arange(i+1,Nt)\n",
    "    \n",
    "    dx = x[i] - x[j]\n",
    "    dy = y[i] - y[j]\n",
    "    dz = z[i] - z[j]\n",
    "        \n",
    "    ### periodic boundary conditions on separations: \n",
    "    dxp = dx + Lbox\n",
    "    dyp = dy + Lbox\n",
    "    dzp = dz + Lbox\n",
    "    dxm = dx - Lbox\n",
    "    dym = dy - Lbox\n",
    "    dzm = dz - Lbox\n",
    "    dx[np.where(dx > hLbox)] = dxm[np.where(dx > hLbox)]\n",
    "    dy[np.where(dy > hLbox)] = dym[np.where(dy > hLbox)]\n",
    "    dz[np.where(dz > hLbox)] = dzm[np.where(dz > hLbox)]\n",
    "    dx[np.where(dx < -hLbox)] = dxp[np.where(dx < -hLbox)]\n",
    "    dy[np.where(dy < -hLbox)] = dyp[np.where(dy < -hLbox)]\n",
    "    dz[np.where(dz < -hLbox)] = dzp[np.where(dz < -hLbox)]\n",
    "\n",
    "    r2 = dx**2 + dy**2 + dz**2\n",
    "    r = np.sqrt(r2)\n",
    "    \n",
    "    ### bin pair counts:\n",
    "    hi, bins = np.histogram(r, bins=nr, range=(rmin,rmax))\n",
    "    Nb += hi\n",
    "    \n",
    "    ### polynomial pair counts:\n",
    "    r = r[(r>=rmin) & (r<=rmax)]\n",
    "    if len(r) > 0:\n",
    "        yokr = (r - mu) / scale\n",
    "        for k in range(0,nk+1):\n",
    "            fbasis[k] = fbasis[k] + sum(yokr**k) / Nt\n",
    "        \n",
    "        #print (i,len(yokr),fbasis[nk])\n",
    "        #if (len(yokr) == 1):\n",
    "            #print (yokr,r)\n",
    "\n",
    "fbasis = fbasis*2 / (Nt-1)\n",
    "    \n",
    "\n",
    "t1 = time.time() \n",
    "print('Time =', t1-t0)"
   ]
  },
  {
   "cell_type": "code",
   "execution_count": 14,
   "metadata": {},
   "outputs": [],
   "source": [
    "DD = 2*Nb\n",
    "\n",
    "dr = bins[1] - bins[0]\n",
    "rbin = (bins[1:] + bins[:-1])/2\n",
    "\n",
    "RR = (Nt-1)*nbar*4*pi/3*(bins[1:]**3-bins[:-1]**3)\n",
    "        \n",
    "Xi12 = DD/RR - 1  \n",
    "\n",
    "sqrtN = np.sqrt(2*Nb)\n",
    "errxi = sqrtN/RR"
   ]
  },
  {
   "cell_type": "code",
   "execution_count": 15,
   "metadata": {},
   "outputs": [
    {
     "data": {
      "image/png": "[encoded data removed]",
      "text/plain": [
       "<matplotlib.figure.Figure at 0x7f46b67f7390>"
      ]
     },
     "metadata": {},
     "output_type": "display_data"
    }
   ],
   "source": [
    "### plot binned xi:\n",
    "plt.plot(rbin,Xi12)\n",
    "plt.xlabel(r'$r$')\n",
    "plt.ylabel(r'$\\xi(r)$')\n",
    "plt.show()"
   ]
  },
  {
   "cell_type": "code",
   "execution_count": 16,
   "metadata": {},
   "outputs": [
    {
     "data": {
      "image/png": "[encoded data removed]",
      "text/plain": [
       "<matplotlib.figure.Figure at 0x7f46a31044e0>"
      ]
     },
     "metadata": {},
     "output_type": "display_data"
    }
   ],
   "source": [
    "### check if a polynomial is an ok fit to it:\n",
    "xbin = (rbin - mu)/scale\n",
    "coef = np.polyfit(xbin, Xi12, nk)\n",
    "p = np.poly1d(coef)\n",
    "plt.plot(xbin,Xi12, xbin, p(xbin), '--')\n",
    "plt.show()"
   ]
  },
  {
   "cell_type": "code",
   "execution_count": 17,
   "metadata": {},
   "outputs": [
    {
     "name": "stdout",
     "output_type": "stream",
     "text": [
      "[  3.78662660e-04   5.29186947e-04   5.52195075e-03   1.35047709e-02\n",
      "   1.42596959e-01   4.10285369e-01   4.36052083e+00   1.35727674e+01\n",
      "   1.44847715e+02   4.72329507e+02   5.05503151e+03   1.69989171e+04]\n",
      "\n",
      "[  4.75841532e-03   6.64995930e-03   6.93908796e-02   1.69705956e-01\n",
      "   1.79192624e+00   5.15579800e+00]\n",
      "\n",
      "[  6.64995930e-03   6.93908796e-02   1.69705956e-01   1.79192624e+00\n",
      "   5.15579800e+00   5.47959208e+01]\n",
      "\n",
      "[  6.93908796e-02   1.69705956e-01   1.79192624e+00   5.15579800e+00\n",
      "   5.47959208e+01   1.70560425e+02]\n",
      "\n",
      "[  1.69705956e-01   1.79192624e+00   5.15579800e+00   5.47959208e+01\n",
      "   1.70560425e+02   1.82021007e+03]\n",
      "\n",
      "[  1.79192624e+00   5.15579800e+00   5.47959208e+01   1.70560425e+02\n",
      "   1.82021007e+03   5.93546763e+03]\n",
      "\n",
      "[  5.15579800e+00   5.47959208e+01   1.70560425e+02   1.82021007e+03\n",
      "   5.93546763e+03   6.35233994e+04]\n",
      "\n"
     ]
    }
   ],
   "source": [
    "### analyticRR:\n",
    "\n",
    "### setting up the vector of RR:\n",
    "umax = (rmax - mu)/scale\n",
    "umin = (rmin - mu)/scale\n",
    "vmax = (rmax - mu)/Lbox\n",
    "vmin = (rmin - mu)/Lbox\n",
    "\n",
    "V = np.zeros(2*nk + 2)\n",
    "for k in range(0, len(V)):\n",
    "    umaxk = umax**k\n",
    "    umink = umin**k\n",
    "    Va = (vmax**3 * umaxk - vmin**3 * umink) / (k+3)\n",
    "    Vb = 2 * (mu/Lbox) * (vmax**2 * umaxk - vmin**2 * umink) / (k+2)\n",
    "    Vc = (mu/Lbox)**2 * (vmax*umaxk - vmin*umink) / (k+1)\n",
    "    V[k] = Va + Vb + Vc\n",
    "nuRR = 4 * pi * V[0:nk] \n",
    "\n",
    "### the corresponding F_RR:\n",
    "dim = (nk+1, nk+1)\n",
    "FRR = np.zeros(dim)\n",
    "for k in range(0,nk+1):\n",
    "    for l in range(0,nk+1):\n",
    "        FRR[k,l] = 4*pi*V[k+l]\n",
    "        \n",
    "        \n",
    "### check if polynomial works in theory:\n",
    "nuDD = fbasis\n",
    "nuRR = np.zeros(nk+1)\n",
    "theoryDiff = np.zeros(nk+1)\n",
    "for k in range(0, nk+1):\n",
    "    theoryDiff[k] = sum(FRR[k,:]*coef[:])\n",
    "\n",
    "print(V)\n",
    "print()\n",
    "print(FRR[0,:])\n",
    "print()\n",
    "print(FRR[1,:])\n",
    "print()\n",
    "print(FRR[2,:])\n",
    "print()\n",
    "print(FRR[3,:])\n",
    "print()\n",
    "print(FRR[4,:])\n",
    "print()\n",
    "print(FRR[5,:])\n",
    "print()"
   ]
  },
  {
   "cell_type": "code",
   "execution_count": 18,
   "metadata": {},
   "outputs": [
    {
     "name": "stdout",
     "output_type": "stream",
     "text": [
      "Theory: [  5.27796288e-07   3.72481557e-06  -6.43868092e-05  -9.67021623e-05\n",
      "   8.27690923e-04   5.50084093e-03]\n"
     ]
    }
   ],
   "source": [
    "### check that procedure returns the same ak:\n",
    "invF = np.linalg.inv(FRR)\n",
    "aTheory = np.dot(invF, theoryDiff)\n",
    "print ('Theory:', aTheory) "
   ]
  },
  {
   "cell_type": "code",
   "execution_count": 19,
   "metadata": {},
   "outputs": [
    {
     "name": "stdout",
     "output_type": "stream",
     "text": [
      "Sim: [  1.00555355e+00   8.17584472e-04  -1.09256171e-04  -6.23752416e-05\n",
      "   4.07674356e-06   4.70688183e-07]\n"
     ]
    }
   ],
   "source": [
    "### do the same for simulation basis:\n",
    "simDiff = nuDD - nuRR\n",
    "aSim = np.dot(invF, simDiff)\n",
    "print ('Sim:', aSim)\n",
    "checkDiff = 0*simDiff\n",
    "SaSim = sum(aSim[:])\n",
    "for k in range(0,nk+1):\n",
    "    checkDiff[k] = sum(FRR[k,:]*SaSim)"
   ]
  },
  {
   "cell_type": "code",
   "execution_count": 20,
   "metadata": {},
   "outputs": [],
   "source": [
    "### show the polynomial fit:\n",
    "rtable = np.arange(60,121)\n",
    "xiSim = 0*rtable\n",
    "xiFit = 0*rtable\n",
    "xiTheory = 0*rtable\n",
    "ytable = (rtable-mu)/scale\n",
    "for k in range(0,nk+1):\n",
    "    xiSim = xiSim + aSim[k] * ytable**k\n",
    "    xiFit = xiFit + coef[k] * ytable**k"
   ]
  },
  {
   "cell_type": "code",
   "execution_count": 21,
   "metadata": {},
   "outputs": [
    {
     "data": {
      "image/png": "[encoded data removed]",
      "text/plain": [
       "<matplotlib.figure.Figure at 0x7f46a2c8e6d8>"
      ]
     },
     "metadata": {},
     "output_type": "display_data"
    }
   ],
   "source": [
    "### plot xi:\n",
    "plt.plot(rtable,xiSim)\n",
    "#plt.plot(rtable,xiFit)\n",
    "plt.xlabel(r'$r$')\n",
    "plt.ylabel(r'$\\xi(r)$')\n",
    "plt.legend([\"xiSim\", \"xiFit\"])\n",
    "plt.show()"
   ]
  },
  {
   "cell_type": "code",
   "execution_count": null,
   "metadata": {},
   "outputs": [],
   "source": []
  },
  {
   "cell_type": "code",
   "execution_count": null,
   "metadata": {
    "collapsed": true
   },
   "outputs": [],
   "source": []
  }
 ],
 "metadata": {
  "kernelspec": {
   "display_name": "Python 3 (ipykernel)",
   "language": "python",
   "name": "python3"
  },
  "language_info": {
   "codemirror_mode": {
    "name": "ipython",
    "version": 3
   },
   "file_extension": ".py",
   "mimetype": "text/x-python",
   "name": "python",
   "nbconvert_exporter": "python",
   "pygments_lexer": "ipython3",
   "version": "3.8.10"
  }
 },
 "nbformat": 4,
 "nbformat_minor": 2
}
