{
 "cells": [
  {
   "cell_type": "code",
   "execution_count": 108,
   "metadata": {
    "collapsed": false
   },
   "outputs": [],
   "source": [
    "import time\n",
    "from math import *\n",
    "import math\n",
    "import numpy as np\n",
    "from scipy import special\n",
    "import matplotlib.pyplot as plt"
   ]
  },
  {
   "cell_type": "code",
   "execution_count": 109,
   "metadata": {
    "collapsed": true
   },
   "outputs": [],
   "source": [
    "data = np.loadtxt('ACH.dat')"
   ]
  },
  {
   "cell_type": "code",
   "execution_count": 110,
   "metadata": {
    "collapsed": false
   },
   "outputs": [],
   "source": [
    "Lbox = 1100\n",
    "hLbox = Lbox/2\n",
    "\n",
    "Nt = 110000\n",
    "nbar = Nt / Lbox**3\n",
    "\n",
    "nk = 9\n",
    "fbasis = np.zeros(nk)\n",
    "\n",
    "nr = 21\n",
    "rmin = 60\n",
    "rmax = 120\n",
    "rmid = (rmax+rmin)/2\n",
    "mu = rmid\n",
    "sigma = 4.6"
   ]
  },
  {
   "cell_type": "code",
   "execution_count": 111,
   "metadata": {
    "collapsed": true
   },
   "outputs": [],
   "source": [
    "sample = np.random.choice(len(data),size=Nt,replace=False)"
   ]
  },
  {
   "cell_type": "code",
   "execution_count": 112,
   "metadata": {
    "collapsed": true
   },
   "outputs": [],
   "source": [
    "x, y, z = data[sample].T"
   ]
  },
  {
   "cell_type": "code",
   "execution_count": 113,
   "metadata": {
    "collapsed": false
   },
   "outputs": [
    {
     "name": "stdout",
     "output_type": "stream",
     "text": [
      "Time = 779.8321168422699\n"
     ]
    }
   ],
   "source": [
    "t0 = time.time()\n",
    "\n",
    "Nb = np.zeros(nr)\n",
    "\n",
    "for i in range(0,Nt-1):\n",
    "    j = np.arange(i+1,Nt)\n",
    "    \n",
    "    dx = x[i] - x[j]\n",
    "    dy = y[i] - y[j]\n",
    "    dz = z[i] - z[j]\n",
    "        \n",
    "    ### periodic boundary conditions on separations: \n",
    "    dxp = dx + Lbox\n",
    "    dyp = dy + Lbox\n",
    "    dzp = dz + Lbox\n",
    "    dxm = dx - Lbox\n",
    "    dym = dy - Lbox\n",
    "    dzm = dz - Lbox\n",
    "    dx[np.where(dx > hLbox)] = dxm[np.where(dx > hLbox)]\n",
    "    dy[np.where(dy > hLbox)] = dym[np.where(dy > hLbox)]\n",
    "    dz[np.where(dz > hLbox)] = dzm[np.where(dz > hLbox)]\n",
    "    dx[np.where(dx < -hLbox)] = dxp[np.where(dx < -hLbox)]\n",
    "    dy[np.where(dy < -hLbox)] = dyp[np.where(dy < -hLbox)]\n",
    "    dz[np.where(dz < -hLbox)] = dzp[np.where(dz < -hLbox)]\n",
    "\n",
    "    r2 = dx**2 + dy**2 + dz**2\n",
    "    r = np.sqrt(r2)\n",
    "    \n",
    "    ### Laguerre pair counts:\n",
    "    r = r[(r>=rmin) & (r<=rmax)]\n",
    "    if len(r) > 0:\n",
    "        s = r/sigma\n",
    "        E1 = special.erf(s/sqrt(2))\n",
    "        E2 = sqrt(2/pi)*np.exp(-s**2/2)\n",
    "        fbasis[0] = fbasis[0] + sum((s+1/s) * E1 + E2)/Nt\n",
    "        fbasis[1] = fbasis[1] + sum(3 + s**2)/Nt\n",
    "        fbasis[2] = fbasis[2] + sum((s**3+6*s+3/s) * E1 + (s**2+5) * E2)/Nt\n",
    "        fbasis[3] = fbasis[3] + sum(s**4+10*s**2+15)/Nt\n",
    "        fbasis[4] = fbasis[4] + sum((s**5+15*s**3+45*s+15/s) * E1 + (s**2+3)*(s**2+11) * E2)/Nt\n",
    "        fbasis[5] = fbasis[5] + sum(s**6 + 21*s**4 + 105*s**2 + 105)/Nt\n",
    "        fbasis[6] = fbasis[6] + sum((s**7+28*s**5+210*s**3+420*s+105/s)*E1 + (s**6+27*s**4+185*s**2+279)*E2)/Nt\n",
    "        fbasis[7] = fbasis[7] + sum(s**8 + 36*s**6 + 378*s**4 + 1260*s**2 + 945)/Nt\n",
    "        fbasis[8] = fbasis[8] + sum((s**9+45*s**7+630*s**5+3150*s**3+4725*s+945/s)*E1 + (s**8+44*s**6+588*s**4+2640*s**2+2895)*E2)/Nt\n",
    "    \n",
    "        \n",
    "fbasis = fbasis*2 / (Nt-1)\n",
    "    \n",
    "\n",
    "t1 = time.time() \n",
    "print('Time =', t1-t0)"
   ]
  },
  {
   "cell_type": "code",
   "execution_count": 114,
   "metadata": {
    "collapsed": false
   },
   "outputs": [],
   "source": [
    "dw = 0.001\n",
    "step = (rmax - rmin)/dw\n",
    "w = dw*np.arange(60,step)\n",
    "s = w/sigma\n",
    "E1 = special.erf(s/sqrt(2))\n",
    "E2 = sqrt(2/pi)*np.exp(-s**2/2)\n",
    "\n",
    "dim = (nk, len(s))\n",
    "f = np.zeros(dim)\n",
    "f[0,:] = (s+1/s) * E1 + E2\n",
    "f[1,:] = 3 + s**2\n",
    "f[2,:] = (s**3+6*s+3/s) * E1 + (s**2+5) * E2\n",
    "f[3,:] = s**4+10*s**2+15\n",
    "f[4,:] = (s**5+15*s**3+45*s+15/s) * E1 + (s**2+3)*(s**2+11) * E2\n",
    "f[5,:] = s**6 + 21*s**4 + 105*s**2 + 105\n",
    "f[6,:] = (s**7+28*s**5+210*s**3+420*s+105/s)*E1 + (s**6+27*s**4+185*s**2+279)*E2\n",
    "f[7,:] = s**8 + 36*s**6 + 378*s**4 + 1260*s**2 + 945\n",
    "f[8,:] = (s**9+45*s**7+630*s**5+3150*s**3+4725*s+945/s)*E1 + (s**8+44*s**6+588*s**4+2640*s**2+2895)*E2\n",
    "   \n",
    "    \n",
    "V = np.zeros(nk)\n",
    "for k in range(0,nk):\n",
    "    V[k] = dw*sum(f[k,:]*w[:]**2)\n",
    "    \n",
    "nuRR = 4*pi*V[0:nk]/Lbox**3"
   ]
  },
  {
   "cell_type": "code",
   "execution_count": 115,
   "metadata": {
    "collapsed": false
   },
   "outputs": [],
   "source": [
    "dim2 = (nk, nk)\n",
    "FRR = np.zeros(dim2)\n",
    "for k in range(0,nk):\n",
    "    for l in range(k,nk):\n",
    "        FRR[k,l] = sum(f[k,:]*f[l,:]*w[:]**2)*dw*4*pi/Lbox**3\n",
    "        FRR[l,k] = FRR[k,l]\n",
    "        \n",
    "invF = np.linalg.inv(FRR)"
   ]
  },
  {
   "cell_type": "code",
   "execution_count": 116,
   "metadata": {
    "collapsed": false
   },
   "outputs": [
    {
     "name": "stdout",
     "output_type": "stream",
     "text": [
      "Sim: [  6.34593148e+09  -9.62945709e+09   5.71570682e+09  -1.77601109e+09\n",
      "   3.21166322e+08  -3.50169504e+07   2.26757917e+06  -8.02737060e+04\n",
      "   1.19571937e+03]\n"
     ]
    }
   ],
   "source": [
    "nuDD = fbasis\n",
    "simDiff = nuDD - nuRR\n",
    "aSim = np.dot(invF, simDiff)\n",
    "print ('Sim:', aSim)\n",
    "checkDiff = 0*simDiff\n",
    "for k in range(0,nk):\n",
    "    checkDiff[k] = sum(FRR[k,:]*aSim[:])"
   ]
  },
  {
   "cell_type": "code",
   "execution_count": 117,
   "metadata": {
    "collapsed": false
   },
   "outputs": [],
   "source": [
    "rt = np.arange(60,121)\n",
    "yt = rt/sigma\n",
    "E1 = special.erf(yt/sqrt(2))\n",
    "E2 = sqrt(2/pi)*np.exp(-yt**2/2)\n",
    "xiSim = 0.0*rt\n",
    "xiSim = xiSim + aSim[0] * ((yt+1/yt) * E1 + E2) \\\n",
    "              + aSim[1] * (3 + yt**2) \\\n",
    "              + aSim[2] * ((yt**3+6*yt+3/yt) * E1 + (yt**2+5) * E2) \\\n",
    "              + aSim[3] * (yt**4+10*yt**2+15) \\\n",
    "                + aSim[4] * ((yt**5+15*yt**3+45*yt+15/yt) * E1 + (yt**2+3)*(yt**2+11) * E2) \\\n",
    "                + aSim[5] * (yt**6 + 21*yt**4 + 105*yt**2 + 105) \\\n",
    "                + aSim[6] * ((yt**7+28*yt**5+210*yt**3+420*yt+105/yt)*E1 + (yt**6+27*yt**4+185*yt**2+279)*E2) \\\n",
    "                + aSim[7] * (yt**8 + 36*yt**6 + 378*yt**4 + 1260*yt**2 + 945) \\\n",
    "                + aSim[8] * ((yt**9+45*yt**7+630*yt**5+3150*yt**3+4725*yt+945/yt)*E1 + (yt**8+44*yt**6+588*yt**4+2640*yt**2+2895)*E2)                    "
   ]
  },
  {
   "cell_type": "code",
   "execution_count": 125,
   "metadata": {
    "collapsed": false
   },
   "outputs": [
    {
     "data": {
      "image/png": "[encoded data removed]",
      "text/plain": [
       "<matplotlib.figure.Figure at 0x7f1181ea89e8>"
      ]
     },
     "metadata": {},
     "output_type": "display_data"
    }
   ],
   "source": [
    "plt.plot(rt,xiSim)\n",
    "plt.xlabel(r'$r$')\n",
    "plt.ylabel(r'$\\xi(r)$')\n",
    "plt.show()"
   ]
  },
  {
   "cell_type": "code",
   "execution_count": null,
   "metadata": {
    "collapsed": true
   },
   "outputs": [],
   "source": []
  }
 ],
 "metadata": {
  "kernelspec": {
   "display_name": "Python 3",
   "language": "python",
   "name": "python3"
  },
  "language_info": {
   "codemirror_mode": {
    "name": "ipython",
    "version": 3
   },
   "file_extension": ".py",
   "mimetype": "text/x-python",
   "name": "python",
   "nbconvert_exporter": "python",
   "pygments_lexer": "ipython3",
   "version": "3.5.3"
  }
 },
 "nbformat": 4,
 "nbformat_minor": 2
}
